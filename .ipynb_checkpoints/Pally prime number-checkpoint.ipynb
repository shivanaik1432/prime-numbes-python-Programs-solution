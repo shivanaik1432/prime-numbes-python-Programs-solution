{
 "cells": [
  {
   "cell_type": "markdown",
   "id": "2d085a16",
   "metadata": {},
   "source": [
    "# pally prime number"
   ]
  },
  {
   "cell_type": "code",
   "execution_count": 5,
   "id": "b0d2273d",
   "metadata": {},
   "outputs": [
    {
     "name": "stdout",
     "output_type": "stream",
     "text": [
      "Enter ur number : 575\n",
      "575 is not paliprime number \n"
     ]
    }
   ],
   "source": [
    "# Check given number is paliprime or not\n",
    "\n",
    "number=int(input(\"Enter ur number : \"))\n",
    "if number>1:\n",
    "    for i in range(2,number//2+1):\n",
    "        if number%i==0:\n",
    "            print(f'{number} is not paliprime number ')\n",
    "            break\n",
    "    else:\n",
    "        dummy=number\n",
    "        result=0\n",
    "        while dummy>0:\n",
    "            rem=dummy%10\n",
    "            result=result*10+rem\n",
    "            dummy//=10\n",
    "        if number==result:\n",
    "            print(f'{number} is the paliprime number ')\n",
    "        else:\n",
    "            print(f'{number} is not paliprime number ')\n",
    "else:\n",
    "    print(f'{number} is not paliprime number ')"
   ]
  },
  {
   "cell_type": "code",
   "execution_count": 7,
   "id": "23516895",
   "metadata": {},
   "outputs": [
    {
     "name": "stdout",
     "output_type": "stream",
     "text": [
      "Enter ur number : 575\n",
      "575 is not paliprime number \n"
     ]
    }
   ],
   "source": [
    "# By using functions\n",
    "\n",
    "def Paliprime(number):\n",
    "    number=int(input(\"Enter ur number : \"))\n",
    "    if number>1:\n",
    "        for i in range(2,number//2+1):\n",
    "            if number%i==0:\n",
    "                print(f'{number} is not paliprime number ')\n",
    "                break\n",
    "        else:\n",
    "            dummy=number\n",
    "            result=0\n",
    "            while dummy>0:\n",
    "                rem=dummy%10\n",
    "                result=result*10+rem\n",
    "                dummy//=10\n",
    "            if number==result:\n",
    "                print(f'{number} is the paliprime number ')\n",
    "            else:\n",
    "                print(f'{number} is not paliprime number ')\n",
    "    else:\n",
    "        print(f'{number} is not paliprime number ')\n",
    "Paliprime(number)"
   ]
  },
  {
   "cell_type": "code",
   "execution_count": 8,
   "id": "cd77252a",
   "metadata": {},
   "outputs": [
    {
     "name": "stdout",
     "output_type": "stream",
     "text": [
      "2\n",
      "3\n",
      "5\n",
      "7\n",
      "11\n",
      "101\n",
      "131\n",
      "151\n",
      "181\n",
      "191\n"
     ]
    }
   ],
   "source": [
    "# first 10 paliprime numbers\n",
    "\n",
    "number=1\n",
    "count=0\n",
    "while True:\n",
    "    dummy=number\n",
    "    result=0\n",
    "    while dummy>0:\n",
    "        rem=dummy%10\n",
    "        result=result*10+rem\n",
    "        dummy//=10\n",
    "    if result==number:\n",
    "        if number>1:\n",
    "            for i in range(2,number//2+1):\n",
    "                if number%i==0:\n",
    "                    break\n",
    "            else:\n",
    "                print(number)\n",
    "                count+=1\n",
    "    if count==10:\n",
    "        break\n",
    "    number+=1"
   ]
  },
  {
   "cell_type": "code",
   "execution_count": 2,
   "id": "9bd4e010",
   "metadata": {},
   "outputs": [
    {
     "name": "stdout",
     "output_type": "stream",
     "text": [
      "Enter Particular number : 5\n",
      "5 number paliprime numebr is 11\n"
     ]
    }
   ],
   "source": [
    "# Particular paliprime number\n",
    "\n",
    "number=1\n",
    "count=0\n",
    "particular_number=int(input(\"Enter Particular number : \"))\n",
    "while True:\n",
    "    dummy=number\n",
    "    result=0\n",
    "    while dummy>0:\n",
    "        res=dummy%10\n",
    "        result=result*10+res\n",
    "        dummy//=10\n",
    "    if result==number:\n",
    "        if number>1:\n",
    "            for i in range(2,number//2+1):\n",
    "                if number%i==0:\n",
    "                    break\n",
    "            else:\n",
    "                count+=1\n",
    "    if count==particular_number:\n",
    "        print(f'{particular_number} number paliprime numebr is : {number}')\n",
    "        break\n",
    "    number+=1"
   ]
  },
  {
   "cell_type": "code",
   "execution_count": null,
   "id": "e9dfadc5",
   "metadata": {},
   "outputs": [],
   "source": []
  }
 ],
 "metadata": {
  "kernelspec": {
   "display_name": "Python 3",
   "language": "python",
   "name": "python3"
  },
  "language_info": {
   "codemirror_mode": {
    "name": "ipython",
    "version": 3
   },
   "file_extension": ".py",
   "mimetype": "text/x-python",
   "name": "python",
   "nbconvert_exporter": "python",
   "pygments_lexer": "ipython3",
   "version": "3.8.8"
  }
 },
 "nbformat": 4,
 "nbformat_minor": 5
}
