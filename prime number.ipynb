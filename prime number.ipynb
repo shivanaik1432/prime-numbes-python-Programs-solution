{
 "cells": [
  {
   "cell_type": "markdown",
   "id": "3a9faa44",
   "metadata": {},
   "source": [
    "# Prime number"
   ]
  },
  {
   "cell_type": "code",
   "execution_count": 4,
   "id": "0e2ace6d",
   "metadata": {},
   "outputs": [
    {
     "name": "stdout",
     "output_type": "stream",
     "text": [
      "Enter ur number :6\n",
      "6 is the not prime number \n"
     ]
    }
   ],
   "source": [
    "# Check Given number is prime number or not by using normal approach\n",
    "\n",
    "n=int(input('Enter ur number :'))\n",
    "\n",
    "if n>1:\n",
    "    for i in range(2,n//2+1):\n",
    "        if n%i==0:\n",
    "            print(f'{n} is the not prime number ')\n",
    "            break\n",
    "    else:\n",
    "        print(f'{n} is the prime numeber ')\n",
    "else:\n",
    "    print(f'{n} is the not prime number ')"
   ]
  },
  {
   "cell_type": "code",
   "execution_count": 5,
   "id": "366a3a2c",
   "metadata": {},
   "outputs": [
    {
     "name": "stdout",
     "output_type": "stream",
     "text": [
      "Enter number: 5\n",
      "5 is the prime numeber \n"
     ]
    }
   ],
   "source": [
    "# By using functions\n",
    "\n",
    "def Prime(n):\n",
    "    if n>1:\n",
    "        for i in range(2,n//2+1):\n",
    "            if n%i==0:\n",
    "                print(f'{n} is the not prime number ')\n",
    "                break\n",
    "        else:\n",
    "            print(f'{n} is the prime numeber ')\n",
    "    else:\n",
    "        print(f'{n} is the not prime number ')\n",
    "n=int(input('Enter number: '))\n",
    "Prime(n)"
   ]
  },
  {
   "cell_type": "code",
   "execution_count": 6,
   "id": "a892789e",
   "metadata": {},
   "outputs": [
    {
     "name": "stdout",
     "output_type": "stream",
     "text": [
      "Enter ur First Limit : 1\n",
      "Enter Ur Upper limit : 20\n",
      "2\n",
      "3\n",
      "5\n",
      "7\n",
      "11\n",
      "13\n",
      "17\n",
      "19\n"
     ]
    }
   ],
   "source": [
    "# check prime numbers in given range\n",
    "\n",
    "def Prime(n):\n",
    "    if n>1:\n",
    "        for i in range(2,n//2+1):\n",
    "            if n%i==0:\n",
    "                return False\n",
    "        else:\n",
    "            return True\n",
    "    else:\n",
    "        return False\n",
    "Prime(n)\n",
    "\n",
    "Lower_limit=int(input(\"Enter ur First Limit : \"))\n",
    "Upper_limit=int(input('Enter Ur Upper limit : '))\n",
    "for i in range(Lower_limit,Upper_limit):\n",
    "    if Prime(i):\n",
    "        print(i)"
   ]
  },
  {
   "cell_type": "code",
   "execution_count": 7,
   "id": "2a2cc384",
   "metadata": {},
   "outputs": [
    {
     "name": "stdout",
     "output_type": "stream",
     "text": [
      "2\n",
      "3\n",
      "5\n",
      "7\n",
      "11\n",
      "13\n",
      "17\n",
      "19\n",
      "23\n",
      "29\n"
     ]
    }
   ],
   "source": [
    "# First 10 prime numbers\n",
    "count=0\n",
    "n=1\n",
    "while True:\n",
    "    if n>1:\n",
    "        for i in range(2,n//2+1):\n",
    "            if n%i==0:\n",
    "                break\n",
    "        else:\n",
    "            print(n)\n",
    "            count+=1\n",
    "    if count==10:\n",
    "        break\n",
    "    n+=1\n",
    "    "
   ]
  },
  {
   "cell_type": "code",
   "execution_count": null,
   "id": "39530aec",
   "metadata": {},
   "outputs": [],
   "source": [
    "# first 100 prime numbers\n",
    "\n",
    "count=0\n",
    "n=1\n",
    "while True:\n",
    "    if n>1:\n",
    "        for i in range(2,n//2+1):\n",
    "            if n%i==0:\n",
    "                break\n",
    "        else:\n",
    "            print(n)\n",
    "            count+=1\n",
    "    if count==100:\n",
    "        break\n",
    "    n+=1"
   ]
  },
  {
   "cell_type": "code",
   "execution_count": 9,
   "id": "9c9d7adb",
   "metadata": {},
   "outputs": [
    {
     "name": "stdout",
     "output_type": "stream",
     "text": [
      "Enter Which prime number u want : 5\n",
      "5 position prime number : 11\n"
     ]
    }
   ],
   "source": [
    "# Particular prime number \n",
    "\n",
    "number=int(input(\"Enter Which prime number u want : \"))\n",
    "\n",
    "count=0\n",
    "num=1\n",
    "while True:\n",
    "    if num>1:\n",
    "        for i in range(2,num//2+1):\n",
    "            if num%i==0:\n",
    "                break\n",
    "        else:\n",
    "            count+=1\n",
    "    if count==number:\n",
    "        print(f'{number} position prime number is : {num}')\n",
    "        break\n",
    "    num+=1"
   ]
  },
  {
   "cell_type": "code",
   "execution_count": null,
   "id": "eb0125b9",
   "metadata": {},
   "outputs": [],
   "source": []
  }
 ],
 "metadata": {
  "kernelspec": {
   "display_name": "Python 3",
   "language": "python",
   "name": "python3"
  },
  "language_info": {
   "codemirror_mode": {
    "name": "ipython",
    "version": 3
   },
   "file_extension": ".py",
   "mimetype": "text/x-python",
   "name": "python",
   "nbconvert_exporter": "python",
   "pygments_lexer": "ipython3",
   "version": "3.8.8"
  }
 },
 "nbformat": 4,
 "nbformat_minor": 5
}
